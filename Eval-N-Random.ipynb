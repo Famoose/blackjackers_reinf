{
 "cells": [
  {
   "cell_type": "code",
   "execution_count": 1,
   "id": "initial_id",
   "metadata": {
    "collapsed": true,
    "ExecuteTime": {
     "end_time": "2023-10-26T15:38:08.756091Z",
     "start_time": "2023-10-26T15:38:08.693105Z"
    }
   },
   "outputs": [],
   "source": [
    "from blackjackenv import BlackjackEnv\n",
    "import randomagent"
   ]
  },
  {
   "cell_type": "code",
   "execution_count": 2,
   "outputs": [
    {
     "name": "stdout",
     "output_type": "stream",
     "text": [
      "N =  50 win rate standard diviation =  0.06113951259210365\n",
      "N =  100 win rate standard diviation =  0.04628811942604711\n",
      "N =  200 win rate standard diviation =  0.03504768180636203\n",
      "N =  300 win rate standard diviation =  0.022881336402307353\n",
      "N =  500 win rate standard diviation =  0.017484381601875425\n",
      "N =  1000 win rate standard diviation =  0.012532421952679368\n",
      "N =  2000 win rate standard diviation =  0.011176559175345501\n",
      "N =  5000 win rate standard diviation =  0.00705123506912087\n",
      "N =  10000 win rate standard diviation =  0.004701040735837117\n",
      "N =  100000 win rate standard diviation =  0.0014497771242504862\n"
     ]
    },
    {
     "ename": "KeyboardInterrupt",
     "evalue": "",
     "output_type": "error",
     "traceback": [
      "\u001B[0;31m---------------------------------------------------------------------------\u001B[0m",
      "\u001B[0;31mKeyboardInterrupt\u001B[0m                         Traceback (most recent call last)",
      "Cell \u001B[0;32mIn[2], line 12\u001B[0m\n\u001B[1;32m     10\u001B[0m     env \u001B[38;5;241m=\u001B[39m BlackjackEnv(sab\u001B[38;5;241m=\u001B[39m\u001B[38;5;28;01mTrue\u001B[39;00m)\n\u001B[1;32m     11\u001B[0m     agent \u001B[38;5;241m=\u001B[39m randomagent\u001B[38;5;241m.\u001B[39mRandomAgent(env)\n\u001B[0;32m---> 12\u001B[0m     env, timesteps_per_episode, wins \u001B[38;5;241m=\u001B[39m \u001B[43mrandomagent\u001B[49m\u001B[38;5;241;43m.\u001B[39;49m\u001B[43mplayNTimes\u001B[49m\u001B[43m(\u001B[49m\u001B[43menv\u001B[49m\u001B[43m,\u001B[49m\u001B[43m \u001B[49m\u001B[43magent\u001B[49m\u001B[43m,\u001B[49m\u001B[43m \u001B[49m\u001B[43mN\u001B[49m\u001B[43m)\u001B[49m\n\u001B[1;32m     13\u001B[0m     win_rate\u001B[38;5;241m.\u001B[39mappend(randomagent\u001B[38;5;241m.\u001B[39mcalculate_winrate(env))\n\u001B[1;32m     14\u001B[0m \u001B[38;5;28mprint\u001B[39m(\u001B[38;5;124m\"\u001B[39m\u001B[38;5;124mN = \u001B[39m\u001B[38;5;124m\"\u001B[39m, N, \u001B[38;5;124m\"\u001B[39m\u001B[38;5;124mwin rate standard diviation = \u001B[39m\u001B[38;5;124m\"\u001B[39m, np\u001B[38;5;241m.\u001B[39mstd(win_rate))\n",
      "File \u001B[0;32m~/PycharmProjects/blackjackers_reinf/randomagent.py:32\u001B[0m, in \u001B[0;36mplayNTimes\u001B[0;34m(env, agent, N)\u001B[0m\n\u001B[1;32m     29\u001B[0m \u001B[38;5;28;01mwhile\u001B[39;00m \u001B[38;5;129;01mnot\u001B[39;00m terminated:\n\u001B[1;32m     31\u001B[0m     action \u001B[38;5;241m=\u001B[39m agent\u001B[38;5;241m.\u001B[39mget_action(state)\n\u001B[0;32m---> 32\u001B[0m     next_state, reward, terminated, truncated, info \u001B[38;5;241m=\u001B[39m \u001B[43menv\u001B[49m\u001B[38;5;241;43m.\u001B[39;49m\u001B[43mstep\u001B[49m\u001B[43m(\u001B[49m\u001B[43maction\u001B[49m\u001B[43m)\u001B[49m\n\u001B[1;32m     34\u001B[0m     \u001B[38;5;28;01mif\u001B[39;00m reward \u001B[38;5;241m==\u001B[39m \u001B[38;5;241m-\u001B[39m\u001B[38;5;241m1\u001B[39m:\n\u001B[1;32m     35\u001B[0m         penalties \u001B[38;5;241m+\u001B[39m\u001B[38;5;241m=\u001B[39m \u001B[38;5;241m1\u001B[39m\n",
      "File \u001B[0;32m~/PycharmProjects/blackjackers_reinf/venv/lib/python3.10/site-packages/gymnasium/wrappers/record_episode_statistics.py:96\u001B[0m, in \u001B[0;36mRecordEpisodeStatistics.step\u001B[0;34m(self, action)\u001B[0m\n\u001B[1;32m     94\u001B[0m \u001B[38;5;28mself\u001B[39m\u001B[38;5;241m.\u001B[39mepisode_lengths \u001B[38;5;241m+\u001B[39m\u001B[38;5;241m=\u001B[39m \u001B[38;5;241m1\u001B[39m\n\u001B[1;32m     95\u001B[0m dones \u001B[38;5;241m=\u001B[39m np\u001B[38;5;241m.\u001B[39mlogical_or(terminations, truncations)\n\u001B[0;32m---> 96\u001B[0m num_dones \u001B[38;5;241m=\u001B[39m \u001B[43mnp\u001B[49m\u001B[38;5;241;43m.\u001B[39;49m\u001B[43msum\u001B[49m\u001B[43m(\u001B[49m\u001B[43mdones\u001B[49m\u001B[43m)\u001B[49m\n\u001B[1;32m     97\u001B[0m \u001B[38;5;28;01mif\u001B[39;00m num_dones:\n\u001B[1;32m     98\u001B[0m     \u001B[38;5;28;01mif\u001B[39;00m \u001B[38;5;124m\"\u001B[39m\u001B[38;5;124mepisode\u001B[39m\u001B[38;5;124m\"\u001B[39m \u001B[38;5;129;01min\u001B[39;00m infos \u001B[38;5;129;01mor\u001B[39;00m \u001B[38;5;124m\"\u001B[39m\u001B[38;5;124m_episode\u001B[39m\u001B[38;5;124m\"\u001B[39m \u001B[38;5;129;01min\u001B[39;00m infos:\n",
      "File \u001B[0;32m<__array_function__ internals>:200\u001B[0m, in \u001B[0;36msum\u001B[0;34m(*args, **kwargs)\u001B[0m\n",
      "File \u001B[0;32m~/PycharmProjects/blackjackers_reinf/venv/lib/python3.10/site-packages/numpy/core/fromnumeric.py:2311\u001B[0m, in \u001B[0;36msum\u001B[0;34m(a, axis, dtype, out, keepdims, initial, where)\u001B[0m\n\u001B[1;32m   2188\u001B[0m \u001B[38;5;129m@array_function_dispatch\u001B[39m(_sum_dispatcher)\n\u001B[1;32m   2189\u001B[0m \u001B[38;5;28;01mdef\u001B[39;00m \u001B[38;5;21msum\u001B[39m(a, axis\u001B[38;5;241m=\u001B[39m\u001B[38;5;28;01mNone\u001B[39;00m, dtype\u001B[38;5;241m=\u001B[39m\u001B[38;5;28;01mNone\u001B[39;00m, out\u001B[38;5;241m=\u001B[39m\u001B[38;5;28;01mNone\u001B[39;00m, keepdims\u001B[38;5;241m=\u001B[39mnp\u001B[38;5;241m.\u001B[39m_NoValue,\n\u001B[1;32m   2190\u001B[0m         initial\u001B[38;5;241m=\u001B[39mnp\u001B[38;5;241m.\u001B[39m_NoValue, where\u001B[38;5;241m=\u001B[39mnp\u001B[38;5;241m.\u001B[39m_NoValue):\n\u001B[1;32m   2191\u001B[0m \u001B[38;5;250m    \u001B[39m\u001B[38;5;124;03m\"\"\"\u001B[39;00m\n\u001B[1;32m   2192\u001B[0m \u001B[38;5;124;03m    Sum of array elements over a given axis.\u001B[39;00m\n\u001B[1;32m   2193\u001B[0m \n\u001B[0;32m   (...)\u001B[0m\n\u001B[1;32m   2309\u001B[0m \u001B[38;5;124;03m    15\u001B[39;00m\n\u001B[1;32m   2310\u001B[0m \u001B[38;5;124;03m    \"\"\"\u001B[39;00m\n\u001B[0;32m-> 2311\u001B[0m     \u001B[38;5;28;01mif\u001B[39;00m \u001B[38;5;28;43misinstance\u001B[39;49m\u001B[43m(\u001B[49m\u001B[43ma\u001B[49m\u001B[43m,\u001B[49m\u001B[43m \u001B[49m\u001B[43m_gentype\u001B[49m\u001B[43m)\u001B[49m:\n\u001B[1;32m   2312\u001B[0m         \u001B[38;5;66;03m# 2018-02-25, 1.15.0\u001B[39;00m\n\u001B[1;32m   2313\u001B[0m         warnings\u001B[38;5;241m.\u001B[39mwarn(\n\u001B[1;32m   2314\u001B[0m             \u001B[38;5;124m\"\u001B[39m\u001B[38;5;124mCalling np.sum(generator) is deprecated, and in the future will give a different result. \u001B[39m\u001B[38;5;124m\"\u001B[39m\n\u001B[1;32m   2315\u001B[0m             \u001B[38;5;124m\"\u001B[39m\u001B[38;5;124mUse np.sum(np.fromiter(generator)) or the python sum builtin instead.\u001B[39m\u001B[38;5;124m\"\u001B[39m,\n\u001B[1;32m   2316\u001B[0m             \u001B[38;5;167;01mDeprecationWarning\u001B[39;00m, stacklevel\u001B[38;5;241m=\u001B[39m\u001B[38;5;241m3\u001B[39m)\n\u001B[1;32m   2318\u001B[0m         res \u001B[38;5;241m=\u001B[39m _sum_(a)\n",
      "\u001B[0;31mKeyboardInterrupt\u001B[0m: "
     ]
    }
   ],
   "source": [
    "import numpy as np\n",
    "\n",
    "# test standard diviation of random agent win rate for N = 50 100 200 300 500 1000 2000\n",
    "\n",
    "Ns = [50, 100, 200, 300, 500, 1000, 2000, 5000, 10000, 100000]\n",
    "\n",
    "for N in Ns:\n",
    "    win_rate = []\n",
    "    for i in range(100):\n",
    "        env = BlackjackEnv(sab=True)\n",
    "        agent = randomagent.RandomAgent(env)\n",
    "        env, timesteps_per_episode, wins = randomagent.playNTimes(env, agent, N)\n",
    "        win_rate.append(randomagent.calculate_winrate(env))\n",
    "    print(\"N = \", N, \"win rate standard diviation = \", np.std(win_rate))"
   ],
   "metadata": {
    "collapsed": false,
    "ExecuteTime": {
     "end_time": "2023-10-26T16:04:50.195087Z",
     "start_time": "2023-10-26T15:38:27.015236Z"
    }
   },
   "id": "daa8795ba3cc941e"
  }
 ],
 "metadata": {
  "kernelspec": {
   "display_name": "Python 3",
   "language": "python",
   "name": "python3"
  },
  "language_info": {
   "codemirror_mode": {
    "name": "ipython",
    "version": 2
   },
   "file_extension": ".py",
   "mimetype": "text/x-python",
   "name": "python",
   "nbconvert_exporter": "python",
   "pygments_lexer": "ipython2",
   "version": "2.7.6"
  }
 },
 "nbformat": 4,
 "nbformat_minor": 5
}
