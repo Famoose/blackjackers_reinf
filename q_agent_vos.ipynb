{
 "cells": [
  {
   "cell_type": "code",
   "execution_count": 46,
   "id": "initial_id",
   "metadata": {
    "collapsed": true,
    "ExecuteTime": {
     "end_time": "2023-10-22T07:22:39.288697Z",
     "start_time": "2023-10-22T07:22:39.281203Z"
    }
   },
   "outputs": [],
   "source": [
    "from blackjackenv import BlackjackEnv\n",
    "from collections import defaultdict\n",
    "from qagent import QAgent\n",
    "\n",
    "import matplotlib.pyplot as plt\n",
    "import numpy as np\n",
    "import seaborn as sns\n",
    "from matplotlib.patches import Patch\n",
    "from tqdm import tqdm\n",
    "\n",
    "import gymnasium as gym\n",
    "\n",
    "\n",
    "env = BlackjackEnv(sab=True, win_reward=4.0, lose_reward=-0.5, hit_reward=2.0)"
   ]
  },
  {
   "cell_type": "code",
   "execution_count": 47,
   "outputs": [],
   "source": [
    "# hyperparameters\n",
    "learning_rate = 0.4\n",
    "n_episodes = 10_000\n",
    "start_epsilon = 0.5\n",
    "epsilon_decay = start_epsilon / n_episodes  # reduce the exploration over time\n",
    "final_epsilon = 0.05\n",
    "gamma = 0.9\n",
    "\n",
    "def initiate_50_agents(exp_policy, learning_rate, start_epsilon, epsilon_decay, final_epsilon, gamma):\n",
    "    agents = []\n",
    "    \n",
    "    for i in range(0,50):\n",
    "        agent = QAgent(\n",
    "            exp_policy=exp_policy,\n",
    "            alpha=learning_rate,\n",
    "            initial_epsilon=start_epsilon,\n",
    "            epsilon_decay=epsilon_decay,\n",
    "            final_epsilon=final_epsilon,\n",
    "            gamma=gamma\n",
    "        )\n",
    "        agents.append(agent)\n",
    "    return agents"
   ],
   "metadata": {
    "collapsed": false,
    "ExecuteTime": {
     "end_time": "2023-10-22T07:23:53.019658Z",
     "start_time": "2023-10-22T07:23:52.997010Z"
    }
   },
   "id": "50dce233b4c6f8bc"
  },
  {
   "cell_type": "code",
   "execution_count": 48,
   "outputs": [],
   "source": [
    "softmax_agents = initiate_50_agents(\"softmax\", learning_rate, start_epsilon, epsilon_decay, final_epsilon, gamma)"
   ],
   "metadata": {
    "collapsed": false,
    "ExecuteTime": {
     "end_time": "2023-10-22T07:23:54.252586Z",
     "start_time": "2023-10-22T07:23:54.244292Z"
    }
   },
   "id": "c010b70b9048470b"
  },
  {
   "cell_type": "code",
   "execution_count": 49,
   "outputs": [],
   "source": [
    "greedy_agents = initiate_50_agents(\"greedy\", learning_rate, start_epsilon, epsilon_decay, final_epsilon, gamma)"
   ],
   "metadata": {
    "collapsed": false,
    "ExecuteTime": {
     "end_time": "2023-10-22T07:24:08.045195Z",
     "start_time": "2023-10-22T07:24:08.036326Z"
    }
   },
   "id": "d2e14268c63fc02e"
  },
  {
   "cell_type": "code",
   "execution_count": 50,
   "outputs": [],
   "source": [
    "e_greedy_agents = initiate_50_agents(\"e_greedy\", learning_rate, start_epsilon, epsilon_decay, final_epsilon, gamma)"
   ],
   "metadata": {
    "collapsed": false,
    "ExecuteTime": {
     "end_time": "2023-10-22T07:24:19.182490Z",
     "start_time": "2023-10-22T07:24:19.161939Z"
    }
   },
   "id": "842ac78c36ca993c"
  },
  {
   "cell_type": "code",
   "execution_count": 35,
   "outputs": [],
   "source": [
    "def train_agents(agents):\n",
    "    envs = []\n",
    "    for agent in agents:\n",
    "        env = BlackjackEnv(sab=True, win_reward=4.0, lose_reward=-0.5, hit_reward=2.0)\n",
    "        env = gym.wrappers.RecordEpisodeStatistics(env, deque_size=n_episodes)\n",
    "        for episode in tqdm(range(n_episodes)):\n",
    "            state, info = env.reset()\n",
    "            done = False\n",
    "    \n",
    "            # play one episode\n",
    "            while not done:\n",
    "                action = agent.get_action(state)\n",
    "                next_state, reward, terminated, truncated, info = env.step(action)\n",
    "    \n",
    "                # update the agent\n",
    "                agent.update(state, action, reward, terminated, next_state)\n",
    "    \n",
    "                # update if the environment is done and the current obs\n",
    "                done = terminated or truncated\n",
    "                state = next_state\n",
    "    \n",
    "            agent.decay_epsilon()\n",
    "        envs.append(env)\n",
    "    return envs"
   ],
   "metadata": {
    "collapsed": false,
    "ExecuteTime": {
     "end_time": "2023-10-22T07:05:44.483835Z",
     "start_time": "2023-10-22T07:05:44.476805Z"
    }
   },
   "id": "2aee90ea726fe668"
  },
  {
   "cell_type": "code",
   "execution_count": 36,
   "outputs": [
    {
     "name": "stderr",
     "output_type": "stream",
     "text": [
      "100%|██████████| 10000/10000 [00:03<00:00, 2612.72it/s]\n",
      "100%|██████████| 10000/10000 [00:03<00:00, 2696.48it/s]\n",
      "100%|██████████| 10000/10000 [00:03<00:00, 2651.69it/s]\n",
      "100%|██████████| 10000/10000 [00:03<00:00, 2954.97it/s]\n",
      "100%|██████████| 10000/10000 [00:03<00:00, 2729.42it/s]\n",
      "100%|██████████| 10000/10000 [00:03<00:00, 2882.77it/s]\n",
      "100%|██████████| 10000/10000 [00:03<00:00, 2904.94it/s]\n",
      "100%|██████████| 10000/10000 [00:03<00:00, 2840.18it/s]\n",
      "100%|██████████| 10000/10000 [00:03<00:00, 2871.21it/s]\n",
      "100%|██████████| 10000/10000 [00:03<00:00, 2896.20it/s]\n",
      "100%|██████████| 10000/10000 [00:03<00:00, 2813.58it/s]\n",
      "100%|██████████| 10000/10000 [00:03<00:00, 2922.72it/s]\n",
      "100%|██████████| 10000/10000 [00:03<00:00, 2878.93it/s]\n",
      "100%|██████████| 10000/10000 [00:03<00:00, 2836.03it/s]\n",
      "100%|██████████| 10000/10000 [00:03<00:00, 2869.94it/s]\n",
      "100%|██████████| 10000/10000 [00:03<00:00, 2843.81it/s]\n",
      "100%|██████████| 10000/10000 [00:03<00:00, 2737.01it/s]\n",
      "100%|██████████| 10000/10000 [00:03<00:00, 2779.89it/s]\n",
      "100%|██████████| 10000/10000 [00:03<00:00, 2862.15it/s]\n",
      "100%|██████████| 10000/10000 [00:03<00:00, 2902.52it/s]\n",
      "100%|██████████| 10000/10000 [00:03<00:00, 2904.73it/s]\n",
      "100%|██████████| 10000/10000 [00:03<00:00, 3031.86it/s]\n",
      "100%|██████████| 10000/10000 [00:03<00:00, 2972.02it/s]\n",
      "100%|██████████| 10000/10000 [00:03<00:00, 2806.04it/s]\n",
      "100%|██████████| 10000/10000 [00:03<00:00, 2957.75it/s]\n",
      "100%|██████████| 10000/10000 [00:03<00:00, 3056.76it/s]\n",
      "100%|██████████| 10000/10000 [00:03<00:00, 2880.51it/s]\n",
      "100%|██████████| 10000/10000 [00:03<00:00, 2941.13it/s]\n",
      "100%|██████████| 10000/10000 [00:03<00:00, 2935.92it/s]\n",
      "100%|██████████| 10000/10000 [00:03<00:00, 2992.60it/s]\n",
      "100%|██████████| 10000/10000 [00:03<00:00, 2970.44it/s]\n",
      "100%|██████████| 10000/10000 [00:03<00:00, 2967.84it/s]\n",
      "100%|██████████| 10000/10000 [00:03<00:00, 3010.69it/s]\n",
      "100%|██████████| 10000/10000 [00:03<00:00, 2784.57it/s]\n",
      "100%|██████████| 10000/10000 [00:03<00:00, 2753.80it/s]\n",
      "100%|██████████| 10000/10000 [00:03<00:00, 2887.36it/s]\n",
      "100%|██████████| 10000/10000 [00:03<00:00, 2766.08it/s]\n",
      "100%|██████████| 10000/10000 [00:03<00:00, 3046.85it/s]\n",
      "100%|██████████| 10000/10000 [00:03<00:00, 2966.79it/s]\n",
      "100%|██████████| 10000/10000 [00:03<00:00, 2846.37it/s]\n",
      "100%|██████████| 10000/10000 [00:03<00:00, 3051.17it/s]\n",
      "100%|██████████| 10000/10000 [00:03<00:00, 2941.10it/s]\n",
      "100%|██████████| 10000/10000 [00:03<00:00, 2955.23it/s]\n",
      "100%|██████████| 10000/10000 [00:03<00:00, 3105.64it/s]\n",
      "100%|██████████| 10000/10000 [00:03<00:00, 2962.13it/s]\n",
      "100%|██████████| 10000/10000 [00:03<00:00, 2988.94it/s]\n",
      "100%|██████████| 10000/10000 [00:03<00:00, 2952.09it/s]\n",
      "100%|██████████| 10000/10000 [00:03<00:00, 2849.64it/s]\n",
      "100%|██████████| 10000/10000 [00:03<00:00, 2800.32it/s]\n",
      "100%|██████████| 10000/10000 [00:03<00:00, 2994.33it/s]\n",
      "100%|██████████| 10000/10000 [00:03<00:00, 3132.54it/s]\n",
      "100%|██████████| 10000/10000 [00:03<00:00, 3131.00it/s]\n",
      "100%|██████████| 10000/10000 [00:03<00:00, 3178.90it/s]\n",
      "100%|██████████| 10000/10000 [00:03<00:00, 3140.72it/s]\n",
      "100%|██████████| 10000/10000 [00:03<00:00, 3145.34it/s]\n",
      "100%|██████████| 10000/10000 [00:03<00:00, 3087.89it/s]\n",
      "100%|██████████| 10000/10000 [00:03<00:00, 3258.71it/s]\n",
      "100%|██████████| 10000/10000 [00:03<00:00, 3054.82it/s]\n",
      "100%|██████████| 10000/10000 [00:03<00:00, 3080.75it/s]\n",
      "100%|██████████| 10000/10000 [00:03<00:00, 2951.00it/s]\n",
      "100%|██████████| 10000/10000 [00:03<00:00, 3234.19it/s]\n",
      "100%|██████████| 10000/10000 [00:03<00:00, 3031.60it/s]\n",
      "100%|██████████| 10000/10000 [00:03<00:00, 3075.18it/s]\n",
      "100%|██████████| 10000/10000 [00:03<00:00, 3119.84it/s]\n",
      "100%|██████████| 10000/10000 [00:03<00:00, 2901.22it/s]\n",
      "100%|██████████| 10000/10000 [00:03<00:00, 3098.29it/s]\n",
      "100%|██████████| 10000/10000 [00:03<00:00, 3018.75it/s]\n",
      "100%|██████████| 10000/10000 [00:03<00:00, 3047.52it/s]\n",
      "100%|██████████| 10000/10000 [00:03<00:00, 3109.44it/s]\n",
      "100%|██████████| 10000/10000 [00:03<00:00, 3066.69it/s]\n",
      "100%|██████████| 10000/10000 [00:03<00:00, 3283.43it/s]\n",
      "100%|██████████| 10000/10000 [00:03<00:00, 3133.67it/s]\n",
      "100%|██████████| 10000/10000 [00:03<00:00, 3004.38it/s]\n",
      "100%|██████████| 10000/10000 [00:03<00:00, 3098.98it/s]\n",
      "100%|██████████| 10000/10000 [00:03<00:00, 3152.39it/s]\n",
      "100%|██████████| 10000/10000 [00:03<00:00, 3168.35it/s]\n",
      "100%|██████████| 10000/10000 [00:03<00:00, 3160.47it/s]\n",
      "100%|██████████| 10000/10000 [00:03<00:00, 3151.47it/s]\n",
      "100%|██████████| 10000/10000 [00:03<00:00, 3208.60it/s]\n",
      "100%|██████████| 10000/10000 [00:03<00:00, 3053.34it/s]\n",
      "100%|██████████| 10000/10000 [00:03<00:00, 2799.62it/s]\n",
      "100%|██████████| 10000/10000 [00:03<00:00, 3121.41it/s]\n",
      "100%|██████████| 10000/10000 [00:03<00:00, 3123.79it/s]\n",
      "100%|██████████| 10000/10000 [00:03<00:00, 3021.33it/s]\n",
      "100%|██████████| 10000/10000 [00:03<00:00, 2933.31it/s]\n",
      "100%|██████████| 10000/10000 [00:03<00:00, 3061.23it/s]\n",
      "100%|██████████| 10000/10000 [00:03<00:00, 3054.04it/s]\n",
      "100%|██████████| 10000/10000 [00:03<00:00, 2905.05it/s]\n",
      "100%|██████████| 10000/10000 [00:03<00:00, 3132.37it/s]\n",
      "100%|██████████| 10000/10000 [00:03<00:00, 3088.44it/s]\n",
      "100%|██████████| 10000/10000 [00:03<00:00, 3039.02it/s]\n",
      "100%|██████████| 10000/10000 [00:03<00:00, 3027.21it/s]\n",
      "100%|██████████| 10000/10000 [00:03<00:00, 3115.68it/s]\n",
      "100%|██████████| 10000/10000 [00:03<00:00, 3070.97it/s]\n",
      "100%|██████████| 10000/10000 [00:03<00:00, 3096.36it/s]\n",
      "100%|██████████| 10000/10000 [00:03<00:00, 3062.52it/s]\n",
      "100%|██████████| 10000/10000 [00:03<00:00, 2972.72it/s]\n",
      "100%|██████████| 10000/10000 [00:03<00:00, 3045.22it/s]\n",
      "100%|██████████| 10000/10000 [00:03<00:00, 3117.32it/s]\n",
      "100%|██████████| 10000/10000 [00:03<00:00, 3086.90it/s]\n",
      "100%|██████████| 10000/10000 [00:03<00:00, 2926.17it/s]\n",
      "100%|██████████| 10000/10000 [00:03<00:00, 2939.89it/s]\n",
      "100%|██████████| 10000/10000 [00:03<00:00, 3128.29it/s]\n",
      "100%|██████████| 10000/10000 [00:03<00:00, 3147.19it/s]\n",
      "100%|██████████| 10000/10000 [00:03<00:00, 3245.74it/s]\n",
      "100%|██████████| 10000/10000 [00:03<00:00, 3174.00it/s]\n",
      "100%|██████████| 10000/10000 [00:03<00:00, 3134.65it/s]\n",
      "100%|██████████| 10000/10000 [00:03<00:00, 3085.66it/s]\n",
      "100%|██████████| 10000/10000 [00:03<00:00, 3182.42it/s]\n",
      "100%|██████████| 10000/10000 [00:03<00:00, 3103.86it/s]\n",
      "100%|██████████| 10000/10000 [00:03<00:00, 3117.42it/s]\n",
      "100%|██████████| 10000/10000 [00:03<00:00, 3106.51it/s]\n",
      "100%|██████████| 10000/10000 [00:03<00:00, 2865.39it/s]\n",
      "100%|██████████| 10000/10000 [00:03<00:00, 3041.06it/s]\n",
      "100%|██████████| 10000/10000 [00:03<00:00, 2963.20it/s]\n",
      "100%|██████████| 10000/10000 [00:03<00:00, 2754.35it/s]\n",
      "100%|██████████| 10000/10000 [00:03<00:00, 2910.84it/s]\n",
      "100%|██████████| 10000/10000 [00:03<00:00, 2926.42it/s]\n",
      "100%|██████████| 10000/10000 [00:03<00:00, 3019.23it/s]\n",
      "100%|██████████| 10000/10000 [00:03<00:00, 2979.20it/s]\n",
      "100%|██████████| 10000/10000 [00:03<00:00, 2892.25it/s]\n",
      "100%|██████████| 10000/10000 [00:03<00:00, 3030.64it/s]\n",
      "100%|██████████| 10000/10000 [00:03<00:00, 3102.40it/s]\n",
      "100%|██████████| 10000/10000 [00:03<00:00, 3100.55it/s]\n",
      "100%|██████████| 10000/10000 [00:03<00:00, 3097.19it/s]\n",
      "100%|██████████| 10000/10000 [00:03<00:00, 3214.12it/s]\n",
      "100%|██████████| 10000/10000 [00:03<00:00, 3186.42it/s]\n",
      "100%|██████████| 10000/10000 [00:03<00:00, 3151.02it/s]\n",
      "100%|██████████| 10000/10000 [00:03<00:00, 3018.35it/s]\n",
      "100%|██████████| 10000/10000 [00:03<00:00, 3125.32it/s]\n",
      "100%|██████████| 10000/10000 [00:03<00:00, 2960.25it/s]\n",
      "100%|██████████| 10000/10000 [00:03<00:00, 3083.74it/s]\n",
      "100%|██████████| 10000/10000 [00:03<00:00, 3108.60it/s]\n",
      "100%|██████████| 10000/10000 [00:03<00:00, 3139.89it/s]\n",
      "100%|██████████| 10000/10000 [00:03<00:00, 3106.01it/s]\n",
      "100%|██████████| 10000/10000 [00:03<00:00, 3085.96it/s]\n",
      "100%|██████████| 10000/10000 [00:03<00:00, 3026.88it/s]\n",
      "100%|██████████| 10000/10000 [00:03<00:00, 2986.65it/s]\n",
      "100%|██████████| 10000/10000 [00:03<00:00, 3106.77it/s]\n",
      "100%|██████████| 10000/10000 [00:03<00:00, 3002.81it/s]\n",
      "100%|██████████| 10000/10000 [00:03<00:00, 2929.31it/s]\n",
      "100%|██████████| 10000/10000 [00:03<00:00, 3158.34it/s]\n",
      "100%|██████████| 10000/10000 [00:03<00:00, 3060.30it/s]\n",
      "100%|██████████| 10000/10000 [00:03<00:00, 3188.55it/s]\n",
      "100%|██████████| 10000/10000 [00:03<00:00, 3095.01it/s]\n",
      "100%|██████████| 10000/10000 [00:03<00:00, 3050.66it/s]\n",
      "100%|██████████| 10000/10000 [00:03<00:00, 3073.67it/s]\n",
      "100%|██████████| 10000/10000 [00:03<00:00, 3061.46it/s]\n",
      "100%|██████████| 10000/10000 [00:03<00:00, 3096.52it/s]\n",
      "100%|██████████| 10000/10000 [00:03<00:00, 2977.05it/s]\n"
     ]
    }
   ],
   "source": [
    "envs_softmax = train_agents(softmax_agents)\n",
    "envs_greedy = train_agents(greedy_agents)\n",
    "envs_e_greedy = train_agents(e_greedy_agents)"
   ],
   "metadata": {
    "collapsed": false,
    "ExecuteTime": {
     "end_time": "2023-10-22T07:14:05.549944Z",
     "start_time": "2023-10-22T07:05:46.171907Z"
    }
   },
   "id": "81eb96e76988b117"
  },
  {
   "cell_type": "code",
   "execution_count": 8,
   "outputs": [
    {
     "ename": "NameError",
     "evalue": "name 'envs' is not defined",
     "output_type": "error",
     "traceback": [
      "\u001B[0;31m---------------------------------------------------------------------------\u001B[0m",
      "\u001B[0;31mNameError\u001B[0m                                 Traceback (most recent call last)",
      "Cell \u001B[0;32mIn[8], line 3\u001B[0m\n\u001B[1;32m      1\u001B[0m \u001B[38;5;66;03m# Durchschnittlicher Reward für jeweils 100 Spiele\u001B[39;00m\n\u001B[1;32m      2\u001B[0m averages \u001B[38;5;241m=\u001B[39m []\n\u001B[0;32m----> 3\u001B[0m \u001B[38;5;28;01mfor\u001B[39;00m env \u001B[38;5;129;01min\u001B[39;00m \u001B[43menvs\u001B[49m:\n\u001B[1;32m      4\u001B[0m     avg \u001B[38;5;241m=\u001B[39m []\n\u001B[1;32m      5\u001B[0m     \u001B[38;5;28;01mfor\u001B[39;00m i \u001B[38;5;129;01min\u001B[39;00m \u001B[38;5;28mrange\u001B[39m(\u001B[38;5;241m100\u001B[39m,\u001B[38;5;241m1100\u001B[39m,\u001B[38;5;241m100\u001B[39m):\n",
      "\u001B[0;31mNameError\u001B[0m: name 'envs' is not defined"
     ]
    }
   ],
   "source": [
    "# Durchschnittlicher Reward für jeweils 100 Spiele\n",
    "averages = []\n",
    "for env in envs:\n",
    "    avg = []\n",
    "    for i in range(100,1100,100):\n",
    "        a = np.mean(np.array(env.return_queue).flatten()[i-100:i])\n",
    "        avg.append(a)\n",
    "    averages.append(avg)\n",
    "    \n",
    "rewards = []\n",
    "for i in range(len(averages[0])):\n",
    "    avg = []\n",
    "    for j in range(len(averages)):\n",
    "        m = averages[j][i]\n",
    "        avg.append(m)\n",
    "    rewards.append(np.mean(avg))\n",
    "\n",
    "print(rewards) # ergibt 10 Durchschnitte aus jeweils dem Durchschnitt von 100 Spielen von 50 Agents"
   ],
   "metadata": {
    "collapsed": false,
    "ExecuteTime": {
     "end_time": "2023-10-10T16:34:42.368829Z",
     "start_time": "2023-10-10T16:34:41.817661Z"
    }
   },
   "id": "2dde68739a780b7a"
  },
  {
   "cell_type": "code",
   "execution_count": 37,
   "outputs": [],
   "source": [
    "def calculate_avg_reward(envs, rolling_length):\n",
    "    rolling_length = rolling_length # mit 100 ergibt pro agent (env) 901 Datendurchschnitte\n",
    "    avg = []\n",
    "    for env in envs:\n",
    "        reward_average = (\n",
    "            np.convolve(\n",
    "                np.array(env.return_queue).flatten(), np.ones(rolling_length), mode=\"valid\"\n",
    "            )\n",
    "            / rolling_length\n",
    "        )\n",
    "        avg.append(reward_average)\n",
    "    \n",
    "    avg_50_agents_100_games = []\n",
    "    for i in range(len(avg[0])):\n",
    "        a = []\n",
    "        for j in range(len(avg)):\n",
    "            m = avg[j][i]\n",
    "            a.append(m)\n",
    "        avg_50_agents_100_games.append(np.mean(a))\n",
    "    \n",
    "    return avg_50_agents_100_games\n",
    "    # ergibt 901 Durchschnitte aus jeweils Durchschnitten von 50 Agents und immer 100 Spielen (100 immer um eine Stelle weiter geschoben - siehe unten)"
   ],
   "metadata": {
    "collapsed": false,
    "ExecuteTime": {
     "end_time": "2023-10-22T07:14:13.353401Z",
     "start_time": "2023-10-22T07:14:13.342921Z"
    }
   },
   "id": "5ed61fded9f1a82f"
  },
  {
   "cell_type": "code",
   "execution_count": 38,
   "outputs": [],
   "source": [
    "softmax_rewards = calculate_avg_reward(envs_softmax, 1_000)\n",
    "greedy_rewards = calculate_avg_reward(envs_greedy, 1_000)\n",
    "e_greedy_rewards = calculate_avg_reward(envs_e_greedy, 1_000)"
   ],
   "metadata": {
    "collapsed": false,
    "ExecuteTime": {
     "end_time": "2023-10-22T07:14:25.219378Z",
     "start_time": "2023-10-22T07:14:23.566063Z"
    }
   },
   "id": "a2aa18d8695232ac"
  },
  {
   "cell_type": "code",
   "execution_count": 76,
   "outputs": [
    {
     "name": "stdout",
     "output_type": "stream",
     "text": [
      "6.333333333333333\n",
      "7.333333333333333\n",
      "7.0\n",
      "8.333333333333334\n"
     ]
    },
    {
     "data": {
      "text/plain": "array([6.33333333, 7.33333333, 7.        , 8.33333333])"
     },
     "execution_count": 76,
     "metadata": {},
     "output_type": "execute_result"
    }
   ],
   "source": [
    "env = envs[0]\n",
    "\n",
    "t = [5, 10, 4, 8, 9, 8]\n",
    "print(np.mean(t[:3])) # 5, 10, 4\n",
    "print(np.mean(t[1:4])) # 10, 4, 8\n",
    "print(np.mean(t[2:5])) # 4, 8, 9\n",
    "print(np.mean(t[3:6])) # 8, 9 , 8\n",
    "np.convolve(\n",
    "    np.array(t).flatten(), np.ones(3), mode=\"valid\"\n",
    ") / 3 # one das geteilt durch wird einfach addiert\n"
   ],
   "metadata": {
    "collapsed": false,
    "ExecuteTime": {
     "end_time": "2023-09-29T14:18:29.852667Z",
     "start_time": "2023-09-29T14:18:29.819472Z"
    }
   },
   "id": "8d1e59e89d1b6882"
  },
  {
   "cell_type": "code",
   "execution_count": 61,
   "outputs": [
    {
     "name": "stdout",
     "output_type": "stream",
     "text": [
      "-0.17\n",
      "-0.11\n",
      "-0.1\n",
      "-0.26\n",
      "-0.03\n",
      "-0.2\n",
      "-0.33\n",
      "-0.41\n",
      "-0.3\n",
      "-0.09\n"
     ]
    }
   ],
   "source": [
    "print(np.mean(np.array(env.return_queue).flatten()[:100]))\n",
    "print(np.mean(np.array(env.return_queue).flatten()[100:200]))\n",
    "print(np.mean(np.array(env.return_queue).flatten()[200:300]))\n",
    "print(np.mean(np.array(env.return_queue).flatten()[300:400]))\n",
    "print(np.mean(np.array(env.return_queue).flatten()[400:500]))\n",
    "print(np.mean(np.array(env.return_queue).flatten()[500:600]))\n",
    "print(np.mean(np.array(env.return_queue).flatten()[600:700]))\n",
    "print(np.mean(np.array(env.return_queue).flatten()[700:800]))\n",
    "print(np.mean(np.array(env.return_queue).flatten()[800:900]))\n",
    "print(np.mean(np.array(env.return_queue).flatten()[900:]))"
   ],
   "metadata": {
    "collapsed": false,
    "ExecuteTime": {
     "end_time": "2023-09-29T14:07:58.635128Z",
     "start_time": "2023-09-29T14:07:58.607687Z"
    }
   },
   "id": "62ba3e190df35231"
  },
  {
   "cell_type": "code",
   "execution_count": 39,
   "outputs": [
    {
     "data": {
      "text/plain": "<Figure size 1200x500 with 1 Axes>",
      "image/png": "[encoded data removed]"
     },
     "metadata": {},
     "output_type": "display_data"
    }
   ],
   "source": [
    "fig, axs = plt.subplots(figsize=(12, 5))\n",
    "axs.set_title(\"Episode rewards with 3 different exploration policies\")\n",
    "axs.plot(range(len(softmax_rewards)), softmax_rewards, label = \"softmax\")\n",
    "axs.plot(range(len(greedy_rewards)), greedy_rewards, label = \"greedy\")\n",
    "axs.plot(range(len(e_greedy_rewards)), e_greedy_rewards, label = \"e_greedy\")\n",
    "plt.legend()\n",
    "plt.xlabel(\"number of episodes\")\n",
    "plt.ylabel(\"average reward\")\n",
    "plt.show()"
   ],
   "metadata": {
    "collapsed": false,
    "ExecuteTime": {
     "end_time": "2023-10-22T07:14:29.808740Z",
     "start_time": "2023-10-22T07:14:29.486511Z"
    }
   },
   "id": "2a0e06164f686398"
  },
  {
   "cell_type": "code",
   "execution_count": 40,
   "outputs": [
    {
     "name": "stderr",
     "output_type": "stream",
     "text": [
      "100%|██████████| 10000/10000 [00:01<00:00, 5657.55it/s]\n",
      "100%|██████████| 10000/10000 [00:01<00:00, 5704.36it/s]\n",
      "100%|██████████| 10000/10000 [00:01<00:00, 5320.12it/s]\n",
      "100%|██████████| 10000/10000 [00:01<00:00, 6113.24it/s]\n",
      "100%|██████████| 10000/10000 [00:01<00:00, 5602.87it/s]\n",
      "100%|██████████| 10000/10000 [00:01<00:00, 5467.82it/s]\n",
      "100%|██████████| 10000/10000 [00:02<00:00, 4795.86it/s]\n",
      "100%|██████████| 10000/10000 [00:02<00:00, 4791.72it/s]\n",
      "100%|██████████| 10000/10000 [00:02<00:00, 4721.84it/s]\n"
     ]
    }
   ],
   "source": [
    "a = [e_greedy_agents, greedy_agents, softmax_agents]\n",
    "wins = []\n",
    "for agents in a:\n",
    "    env = BlackjackEnv(sab=True, win_reward=4.0, lose_reward=-0.5, hit_reward=2.0)\n",
    "    for i in range(1,4):\n",
    "        agent = agents[i]\n",
    "        win = 0\n",
    "        for episode in tqdm(range(n_episodes)):\n",
    "            state, info = env.reset()\n",
    "            done = False\n",
    "        \n",
    "            while not done:\n",
    "                action = agent.get_action(state)\n",
    "                next_state, reward, terminated, truncated, info = env.step(action)\n",
    "            \n",
    "                done = terminated or truncated\n",
    "                state = next_state\n",
    "                if reward == 4.0:\n",
    "                    win += 1\n",
    "        wins.append(win)"
   ],
   "metadata": {
    "collapsed": false,
    "ExecuteTime": {
     "end_time": "2023-10-22T07:14:56.787726Z",
     "start_time": "2023-10-22T07:14:39.828781Z"
    }
   },
   "id": "a4952317c5acd691"
  },
  {
   "cell_type": "code",
   "execution_count": 41,
   "outputs": [
    {
     "name": "stdout",
     "output_type": "stream",
     "text": [
      "e_greedy : 0.02376666666666667%\n",
      "greedy : 0.044366666666666665%\n",
      "softmax : 0.0175%\n"
     ]
    }
   ],
   "source": [
    "policies = [\"e_greedy\", \"greedy\", \"softmax\"]\n",
    "for i in range(0,9,3):\n",
    "    policy = policies[int(i/3)]\n",
    "    sum = 0\n",
    "    for j in range(i,3+i):\n",
    "        sum = sum + (wins[j]/n_episodes)\n",
    "    avg = sum/3\n",
    "    print(\"{} : {}%\".format(policy,avg))"
   ],
   "metadata": {
    "collapsed": false,
    "ExecuteTime": {
     "end_time": "2023-10-22T07:15:19.368852Z",
     "start_time": "2023-10-22T07:15:19.362501Z"
    }
   },
   "id": "5ffba8eaf02929fc"
  },
  {
   "cell_type": "code",
   "execution_count": null,
   "outputs": [],
   "source": [],
   "metadata": {
    "collapsed": false
   },
   "id": "db407c7ed319c5f3"
  }
 ],
 "metadata": {
  "kernelspec": {
   "display_name": "Python 3",
   "language": "python",
   "name": "python3"
  },
  "language_info": {
   "codemirror_mode": {
    "name": "ipython",
    "version": 2
   },
   "file_extension": ".py",
   "mimetype": "text/x-python",
   "name": "python",
   "nbconvert_exporter": "python",
   "pygments_lexer": "ipython2",
   "version": "2.7.6"
  }
 },
 "nbformat": 4,
 "nbformat_minor": 5
}
